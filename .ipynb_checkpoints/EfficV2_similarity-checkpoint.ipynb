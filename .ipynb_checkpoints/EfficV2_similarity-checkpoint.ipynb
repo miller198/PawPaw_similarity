{
 "cells": [
  {
   "cell_type": "code",
   "execution_count": 1,
   "id": "fc320acf",
   "metadata": {},
   "outputs": [],
   "source": [
    "from torchvision import transforms\n",
    "from torch.utils.data import Dataset, random_split, DataLoader\n",
    "import torch\n",
    "import torch.nn as nn # layer들을 호출하기 위해서\n",
    "import numpy as np\n",
    "import torch.optim as optim # optimization method를 사용하기 위해서\n",
    "import torch.nn.init as init # weight initialization 해주기 위해서\n",
    "\n",
    "import torchvision\n",
    "import torch.nn.functional as F\n",
    "import torchvision.models as models\n",
    "\n",
    "# %matplotlib inline\n",
    "\n",
    "from efficientnet_pytorch import EfficientNet\n",
    "\n",
    "\n",
    "class PretrainedEfficientNet_V2(nn.Module):\n",
    "    def __init__(self):\n",
    "        super().__init__()\n",
    "\n",
    "        self.network = EfficientNet.from_pretrained('efficientnet-b4')\n",
    "        self.network._fc = nn.Identity()\n",
    "\n",
    "    def forward(self, xb):\n",
    "        features = self.network.extract_features(xb)  # Extract features\n",
    "        features = torch.flatten(features, start_dim=1)  # Flatten the features\n",
    "        return features\n",
    "        \n",
    "        \n",
    "def cosine_similarity(features1, features2):\n",
    "    # 특징 텐서를 정규화(normalize)합니다.\n",
    "    features1_normalized = F.normalize(features1, dim=1)\n",
    "    features2_normalized = F.normalize(features2, dim=1)\n",
    "\n",
    "    # 코사인 유사도를 계산합니다.\n",
    "    similarity = torch.matmul(features1_normalized, features2_normalized.transpose(0, 1))\n",
    "\n",
    "    return similarity\n",
    "            "
   ]
  },
  {
   "cell_type": "code",
   "execution_count": null,
   "id": "49c21f79",
   "metadata": {},
   "outputs": [],
   "source": []
  }
 ],
 "metadata": {
  "kernelspec": {
   "display_name": "Python 3 (ipykernel)",
   "language": "python",
   "name": "python3"
  },
  "language_info": {
   "codemirror_mode": {
    "name": "ipython",
    "version": 3
   },
   "file_extension": ".py",
   "mimetype": "text/x-python",
   "name": "python",
   "nbconvert_exporter": "python",
   "pygments_lexer": "ipython3",
   "version": "3.9.12"
  }
 },
 "nbformat": 4,
 "nbformat_minor": 5
}
